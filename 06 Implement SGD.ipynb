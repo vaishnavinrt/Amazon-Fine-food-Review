{
 "cells": [
  {
   "cell_type": "code",
   "execution_count": 176,
   "metadata": {
    "colab": {},
    "colab_type": "code",
    "id": "REYPoTJ1Af7u"
   },
   "outputs": [],
   "source": [
    "import warnings\n",
    "warnings.filterwarnings(\"ignore\")\n",
    "from sklearn.datasets import load_boston\n",
    "from random import seed\n",
    "from random import randrange\n",
    "from csv import reader\n",
    "from math import sqrt\n",
    "from sklearn import preprocessing\n",
    "import pandas as pd\n",
    "import numpy as np\n",
    "import matplotlib.pyplot as plt\n",
    "from prettytable import PrettyTable\n",
    "from sklearn.linear_model import SGDRegressor\n",
    "from sklearn import preprocessing\n",
    "from sklearn.metrics import mean_squared_error"
   ]
  },
  {
   "cell_type": "code",
   "execution_count": 177,
   "metadata": {},
   "outputs": [
    {
     "name": "stdout",
     "output_type": "stream",
     "text": [
      ".. _boston_dataset:\n",
      "\n",
      "Boston house prices dataset\n",
      "---------------------------\n",
      "\n",
      "**Data Set Characteristics:**  \n",
      "\n",
      "    :Number of Instances: 506 \n",
      "\n",
      "    :Number of Attributes: 13 numeric/categorical predictive. Median Value (attribute 14) is usually the target.\n",
      "\n",
      "    :Attribute Information (in order):\n",
      "        - CRIM     per capita crime rate by town\n",
      "        - ZN       proportion of residential land zoned for lots over 25,000 sq.ft.\n",
      "        - INDUS    proportion of non-retail business acres per town\n",
      "        - CHAS     Charles River dummy variable (= 1 if tract bounds river; 0 otherwise)\n",
      "        - NOX      nitric oxides concentration (parts per 10 million)\n",
      "        - RM       average number of rooms per dwelling\n",
      "        - AGE      proportion of owner-occupied units built prior to 1940\n",
      "        - DIS      weighted distances to five Boston employment centres\n",
      "        - RAD      index of accessibility to radial highways\n",
      "        - TAX      full-value property-tax rate per $10,000\n",
      "        - PTRATIO  pupil-teacher ratio by town\n",
      "        - B        1000(Bk - 0.63)^2 where Bk is the proportion of blacks by town\n",
      "        - LSTAT    % lower status of the population\n",
      "        - MEDV     Median value of owner-occupied homes in $1000's\n",
      "\n",
      "    :Missing Attribute Values: None\n",
      "\n",
      "    :Creator: Harrison, D. and Rubinfeld, D.L.\n",
      "\n",
      "This is a copy of UCI ML housing dataset.\n",
      "https://archive.ics.uci.edu/ml/machine-learning-databases/housing/\n",
      "\n",
      "\n",
      "This dataset was taken from the StatLib library which is maintained at Carnegie Mellon University.\n",
      "\n",
      "The Boston house-price data of Harrison, D. and Rubinfeld, D.L. 'Hedonic\n",
      "prices and the demand for clean air', J. Environ. Economics & Management,\n",
      "vol.5, 81-102, 1978.   Used in Belsley, Kuh & Welsch, 'Regression diagnostics\n",
      "...', Wiley, 1980.   N.B. Various transformations are used in the table on\n",
      "pages 244-261 of the latter.\n",
      "\n",
      "The Boston house-price data has been used in many machine learning papers that address regression\n",
      "problems.   \n",
      "     \n",
      ".. topic:: References\n",
      "\n",
      "   - Belsley, Kuh & Welsch, 'Regression diagnostics: Identifying Influential Data and Sources of Collinearity', Wiley, 1980. 244-261.\n",
      "   - Quinlan,R. (1993). Combining Instance-Based and Model-Based Learning. In Proceedings on the Tenth International Conference of Machine Learning, 236-243, University of Massachusetts, Amherst. Morgan Kaufmann.\n",
      "\n"
     ]
    }
   ],
   "source": [
    "#LEt us check the column header of boston data set\n",
    "print(load_boston().DESCR)"
   ]
  },
  {
   "cell_type": "code",
   "execution_count": 178,
   "metadata": {},
   "outputs": [
    {
     "name": "stdout",
     "output_type": "stream",
     "text": [
      "(506, 13)\n"
     ]
    }
   ],
   "source": [
    "#Let us check the boston dataset shape\n",
    "print(load_boston().data.shape)"
   ]
  },
  {
   "cell_type": "code",
   "execution_count": 179,
   "metadata": {
    "colab": {},
    "colab_type": "code",
    "id": "NTQ2iH-kAwbo"
   },
   "outputs": [],
   "source": [
    "X = load_boston().data\n",
    "Y = load_boston().target"
   ]
  },
  {
   "cell_type": "code",
   "execution_count": 189,
   "metadata": {},
   "outputs": [],
   "source": [
    "df=pd.DataFrame(X)"
   ]
  },
  {
   "cell_type": "code",
   "execution_count": 190,
   "metadata": {},
   "outputs": [
    {
     "data": {
      "text/html": [
       "<div>\n",
       "<style scoped>\n",
       "    .dataframe tbody tr th:only-of-type {\n",
       "        vertical-align: middle;\n",
       "    }\n",
       "\n",
       "    .dataframe tbody tr th {\n",
       "        vertical-align: top;\n",
       "    }\n",
       "\n",
       "    .dataframe thead th {\n",
       "        text-align: right;\n",
       "    }\n",
       "</style>\n",
       "<table border=\"1\" class=\"dataframe\">\n",
       "  <thead>\n",
       "    <tr style=\"text-align: right;\">\n",
       "      <th></th>\n",
       "      <th>0</th>\n",
       "      <th>1</th>\n",
       "      <th>2</th>\n",
       "      <th>3</th>\n",
       "      <th>4</th>\n",
       "      <th>5</th>\n",
       "      <th>6</th>\n",
       "      <th>7</th>\n",
       "      <th>8</th>\n",
       "      <th>9</th>\n",
       "      <th>10</th>\n",
       "      <th>11</th>\n",
       "      <th>12</th>\n",
       "    </tr>\n",
       "  </thead>\n",
       "  <tbody>\n",
       "    <tr>\n",
       "      <th>0</th>\n",
       "      <td>-0.419782</td>\n",
       "      <td>0.284830</td>\n",
       "      <td>-1.287909</td>\n",
       "      <td>-0.272599</td>\n",
       "      <td>-0.144217</td>\n",
       "      <td>0.413672</td>\n",
       "      <td>-0.120013</td>\n",
       "      <td>0.140214</td>\n",
       "      <td>-0.982843</td>\n",
       "      <td>-0.666608</td>\n",
       "      <td>-1.459000</td>\n",
       "      <td>0.441052</td>\n",
       "      <td>-1.075562</td>\n",
       "    </tr>\n",
       "    <tr>\n",
       "      <th>1</th>\n",
       "      <td>-0.417339</td>\n",
       "      <td>-0.487722</td>\n",
       "      <td>-0.593381</td>\n",
       "      <td>-0.272599</td>\n",
       "      <td>-0.740262</td>\n",
       "      <td>0.194274</td>\n",
       "      <td>0.367166</td>\n",
       "      <td>0.557160</td>\n",
       "      <td>-0.867883</td>\n",
       "      <td>-0.987329</td>\n",
       "      <td>-0.303094</td>\n",
       "      <td>0.441052</td>\n",
       "      <td>-0.492439</td>\n",
       "    </tr>\n",
       "    <tr>\n",
       "      <th>2</th>\n",
       "      <td>-0.417342</td>\n",
       "      <td>-0.487722</td>\n",
       "      <td>-0.593381</td>\n",
       "      <td>-0.272599</td>\n",
       "      <td>-0.740262</td>\n",
       "      <td>1.282714</td>\n",
       "      <td>-0.265812</td>\n",
       "      <td>0.557160</td>\n",
       "      <td>-0.867883</td>\n",
       "      <td>-0.987329</td>\n",
       "      <td>-0.303094</td>\n",
       "      <td>0.396427</td>\n",
       "      <td>-1.208727</td>\n",
       "    </tr>\n",
       "    <tr>\n",
       "      <th>3</th>\n",
       "      <td>-0.416750</td>\n",
       "      <td>-0.487722</td>\n",
       "      <td>-1.306878</td>\n",
       "      <td>-0.272599</td>\n",
       "      <td>-0.835284</td>\n",
       "      <td>1.016303</td>\n",
       "      <td>-0.809889</td>\n",
       "      <td>1.077737</td>\n",
       "      <td>-0.752922</td>\n",
       "      <td>-1.106115</td>\n",
       "      <td>0.113032</td>\n",
       "      <td>0.416163</td>\n",
       "      <td>-1.361517</td>\n",
       "    </tr>\n",
       "    <tr>\n",
       "      <th>4</th>\n",
       "      <td>-0.412482</td>\n",
       "      <td>-0.487722</td>\n",
       "      <td>-1.306878</td>\n",
       "      <td>-0.272599</td>\n",
       "      <td>-0.835284</td>\n",
       "      <td>1.228577</td>\n",
       "      <td>-0.511180</td>\n",
       "      <td>1.077737</td>\n",
       "      <td>-0.752922</td>\n",
       "      <td>-1.106115</td>\n",
       "      <td>0.113032</td>\n",
       "      <td>0.441052</td>\n",
       "      <td>-1.026501</td>\n",
       "    </tr>\n",
       "  </tbody>\n",
       "</table>\n",
       "</div>"
      ],
      "text/plain": [
       "         0         1         2         3         4         5         6   \\\n",
       "0 -0.419782  0.284830 -1.287909 -0.272599 -0.144217  0.413672 -0.120013   \n",
       "1 -0.417339 -0.487722 -0.593381 -0.272599 -0.740262  0.194274  0.367166   \n",
       "2 -0.417342 -0.487722 -0.593381 -0.272599 -0.740262  1.282714 -0.265812   \n",
       "3 -0.416750 -0.487722 -1.306878 -0.272599 -0.835284  1.016303 -0.809889   \n",
       "4 -0.412482 -0.487722 -1.306878 -0.272599 -0.835284  1.228577 -0.511180   \n",
       "\n",
       "         7         8         9         10        11        12  \n",
       "0  0.140214 -0.982843 -0.666608 -1.459000  0.441052 -1.075562  \n",
       "1  0.557160 -0.867883 -0.987329 -0.303094  0.441052 -0.492439  \n",
       "2  0.557160 -0.867883 -0.987329 -0.303094  0.396427 -1.208727  \n",
       "3  1.077737 -0.752922 -1.106115  0.113032  0.416163 -1.361517  \n",
       "4  1.077737 -0.752922 -1.106115  0.113032  0.441052 -1.026501  "
      ]
     },
     "execution_count": 190,
     "metadata": {},
     "output_type": "execute_result"
    }
   ],
   "source": [
    "df.head()"
   ]
  },
  {
   "cell_type": "code",
   "execution_count": 182,
   "metadata": {
    "colab": {},
    "colab_type": "code",
    "id": "FgUW39s6Be0U"
   },
   "outputs": [],
   "source": [
    "scaler = preprocessing.StandardScaler().fit(X)\n",
    "X = scaler.transform(X)"
   ]
  },
  {
   "cell_type": "code",
   "execution_count": 183,
   "metadata": {
    "colab": {
     "base_uri": "https://localhost:8080/",
     "height": 34
    },
    "colab_type": "code",
    "executionInfo": {
     "elapsed": 879,
     "status": "ok",
     "timestamp": 1545718892607,
     "user": {
      "displayName": "Applied AI Course",
      "photoUrl": "https://lh5.googleusercontent.com/-9_3A9F-kDXs/AAAAAAAAAAI/AAAAAAAAACw/IprjYvUuoXQ/s64/photo.jpg",
      "userId": "00484516897554883881"
     },
     "user_tz": -330
    },
    "id": "HNu1sXtEBBS2",
    "outputId": "a0c5d3d0-345c-4a34-8ccf-0d9f3d7d23fd"
   },
   "outputs": [
    {
     "name": "stdout",
     "output_type": "stream",
     "text": [
      "23.19656403774602\n"
     ]
    }
   ],
   "source": [
    "# https://scikit-learn.org/stable/modules/generated/sklearn.linear_model.SGDRegressor.html\n",
    "clf = SGDRegressor(learning_rate='constant',eta0=0.01,n_iter=100,max_iter=100)\n",
    "clf.fit(X, Y)\n",
    "mse_sgd = mean_squared_error(Y, clf.predict(X))\n",
    "print(mean_squared_error(Y, clf.predict(X)))"
   ]
  },
  {
   "cell_type": "code",
   "execution_count": 184,
   "metadata": {},
   "outputs": [
    {
     "data": {
      "text/plain": [
       "Text(0.5, 1.0, 'Actual price Vs Predicted price')"
      ]
     },
     "execution_count": 184,
     "metadata": {},
     "output_type": "execute_result"
    },
    {
     "data": {
      "image/png": "[encoded data removed]",
      "text/plain": [
       "<Figure size 432x288 with 1 Axes>"
      ]
     },
     "metadata": {},
     "output_type": "display_data"
    }
   ],
   "source": [
    "plt.scatter(Y,clf.predict(X))\n",
    "plt.xlabel('Actual Price')\n",
    "plt.ylabel('Predicted Price')\n",
    "plt.title('Actual price Vs Predicted price')\n"
   ]
  },
  {
   "cell_type": "code",
   "execution_count": 192,
   "metadata": {},
   "outputs": [],
   "source": [
    "df['price']=Y"
   ]
  },
  {
   "cell_type": "code",
   "execution_count": 193,
   "metadata": {},
   "outputs": [
    {
     "name": "stdout",
     "output_type": "stream",
     "text": [
      "[[-0.22739945  0.32442225 -0.23317685  0.21461886 -0.21092977  0.22168193\n",
      "  -0.17577685  0.16375659 -0.4069626  -0.44852646 -0.29069344  0.25102612\n",
      "  -0.2843854 ]]\n",
      "[1.98578249]\n"
     ]
    }
   ],
   "source": [
    "#SGD implementation for linear regression\n",
    "# we will implement the equation and find the weight vector\n",
    "\n",
    "W=np.zeros(shape=(1,13))\n",
    "B=0\n",
    "iteration =100\n",
    "learn_rate =0.01\n",
    "k=25\n",
    "\n",
    "while iteration>=0:\n",
    "    w=W\n",
    "    b=B\n",
    "    vector=np.zeros(shape=(1,13))\n",
    "    intercept=0\n",
    "    data= df.sample(30)\n",
    "    x=np.array(data.drop('price',axis=1))\n",
    "    y=np.array(data['price'])\n",
    "    for i in range(k):\n",
    "        vector+=(-2)*x[i]*(y[i]-(np.dot(w,x[i])+b)) # partial differentation explained in te video(dl/dw)\n",
    "        intercept+=(-2)*(y[i]-(np.dot(w,x[i])+b))\n",
    "        \n",
    "        W=(w-learn_rate*(vector)/k)\n",
    "        B=(b-learn_rate*(intercept)/k)\n",
    "        iteration-=1\n",
    "print(W)\n",
    "print(B)\n",
    "\n"
   ]
  },
  {
   "cell_type": "code",
   "execution_count": 194,
   "metadata": {},
   "outputs": [],
   "source": [
    "y_predict=[]\n",
    "for i in range(len(X)):\n",
    "    Y_hat=np.dot(W,X[i])+B\n",
    "    y_predict.append(np.asscalar(Y_hat))"
   ]
  },
  {
   "cell_type": "code",
   "execution_count": 195,
   "metadata": {},
   "outputs": [
    {
     "data": {
      "text/plain": [
       "Text(0.5, 1.0, 'Actual price Vs Predicted price')"
      ]
     },
     "execution_count": 195,
     "metadata": {},
     "output_type": "execute_result"
    },
    {
     "data": {
      "image/png": "[encoded data removed]",
      "text/plain": [
       "<Figure size 432x288 with 1 Axes>"
      ]
     },
     "metadata": {},
     "output_type": "display_data"
    }
   ],
   "source": [
    "plt.scatter(Y,y_predict)\n",
    "plt.xlabel('Actual Price')\n",
    "plt.ylabel('Predicted Price')\n",
    "plt.title('Actual price Vs Predicted price')\n"
   ]
  },
  {
   "cell_type": "code",
   "execution_count": 196,
   "metadata": {},
   "outputs": [
    {
     "name": "stdout",
     "output_type": "stream",
     "text": [
      "MEan squared error obtained in linear regression implementation= 484.16478976191\n"
     ]
    }
   ],
   "source": [
    "MSE_reg = mean_squared_error(Y,y_predict)\n",
    "print('MEan squared error obtained in linear regression implementation=',MSE_reg)"
   ]
  },
  {
   "cell_type": "code",
   "execution_count": 197,
   "metadata": {},
   "outputs": [
    {
     "name": "stdout",
     "output_type": "stream",
     "text": [
      "+----------------------+---------------------------+\n",
      "| Weight Vector manual | Weight vector SGD SKLEARN |\n",
      "+----------------------+---------------------------+\n",
      "| -0.2273994494162701  |    -0.9602188479613879    |\n",
      "|   0.32442225443218   |     0.7821540095314731    |\n",
      "| -0.23317685158044857 |    0.07631143327302752    |\n",
      "| 0.21461885939264647  |     0.9555552226153885    |\n",
      "| -0.21092976514467332 |    -1.7551215708761376    |\n",
      "| 0.22168193401505293  |     2.550780217427071     |\n",
      "| -0.17577685203032803 |     0.2724425835592661    |\n",
      "| 0.16375659033798462  |    -3.5334977998591905    |\n",
      "| -0.4069625979805738  |      2.36150686407776     |\n",
      "| -0.4485264586482895  |     -2.342971355890155    |\n",
      "| -0.29069343867736436 |    -2.6136235753534263    |\n",
      "| 0.25102611743402337  |     1.0724911508703718    |\n",
      "| -0.2843853996051507  |     -4.019421762964762    |\n",
      "+----------------------+---------------------------+\n"
     ]
    }
   ],
   "source": [
    "from prettytable import PrettyTable\n",
    "tab= PrettyTable()\n",
    "tab.field_names=['Weight Vector manual','Weight vector SGD SKLEARN']\n",
    "weight_sgd=clf.coef_\n",
    "for i in range(13):\n",
    "    tab.add_row([W[0][i],weight_sgd[i]])\n",
    "print(tab)"
   ]
  },
  {
   "cell_type": "code",
   "execution_count": 198,
   "metadata": {},
   "outputs": [
    {
     "name": "stdout",
     "output_type": "stream",
     "text": [
      "MSE of manual implementation= 484.16478976191\n",
      "----------------------------------------------------------------------------------------------------\n",
      "MSE of SGD SKLEARN implementation= 23.19656403774602\n",
      "----------------------------------------------------------------------------------------------------\n"
     ]
    }
   ],
   "source": [
    "print('MSE of manual implementation=',MSE_reg)\n",
    "print('--'*50)\n",
    "print('MSE of SGD SKLEARN implementation=',mse_sgd)\n",
    "print('--'*50)"
   ]
  },
  {
   "cell_type": "code",
   "execution_count": 199,
   "metadata": {},
   "outputs": [
    {
     "name": "stdout",
     "output_type": "stream",
     "text": [
      "22.907173722202067\n"
     ]
    }
   ],
   "source": [
    "clf = SGDRegressor(learning_rate='constant',eta0=0.01,n_iter=1000,max_iter=1000)\n",
    "clf.fit(X, Y)\n",
    "mse_sgd= mean_squared_error(Y, clf.predict(X))\n",
    "print(mean_squared_error(Y, clf.predict(X)))"
   ]
  },
  {
   "cell_type": "code",
   "execution_count": 200,
   "metadata": {},
   "outputs": [
    {
     "data": {
      "text/plain": [
       "Text(0.5, 1.0, 'Actual price Vs Predicted price')"
      ]
     },
     "execution_count": 200,
     "metadata": {},
     "output_type": "execute_result"
    },
    {
     "data": {
      "image/png": "[encoded data removed]",
      "text/plain": [
       "<Figure size 432x288 with 1 Axes>"
      ]
     },
     "metadata": {},
     "output_type": "display_data"
    }
   ],
   "source": [
    "plt.scatter(Y,clf.predict(X))\n",
    "plt.xlabel('Actual Price')\n",
    "plt.ylabel('Predicted Price')\n",
    "plt.title('Actual price Vs Predicted price')\n"
   ]
  },
  {
   "cell_type": "code",
   "execution_count": 201,
   "metadata": {},
   "outputs": [
    {
     "name": "stdout",
     "output_type": "stream",
     "text": [
      "[[-0.93389797  0.08320225 -0.79451437  0.46676044 -0.42734109  1.46898527\n",
      "  -0.34878196 -0.44644072 -0.31206775 -0.64512105 -1.03535731  0.77064265\n",
      "  -1.64129681]]\n",
      "[11.12423153]\n"
     ]
    }
   ],
   "source": [
    "#SGD implementation for linear regression\n",
    "# we will implement the equation and find the weight vector\n",
    "\n",
    "W=np.zeros(shape=(1,13))\n",
    "B=0\n",
    "iteration =1000\n",
    "learn_rate =0.01\n",
    "k=30\n",
    "\n",
    "while iteration>=0:\n",
    "    w=W\n",
    "    b=B\n",
    "    vector=np.zeros(shape=(1,13))\n",
    "    intercept=0\n",
    "    data= df.sample(30)\n",
    "    x=np.array(data.drop('price',axis=1))\n",
    "    y=np.array(data['price'])\n",
    "    for i in range(k):\n",
    "        vector+=(-2)*x[i]*(y[i]-(np.dot(w,x[i])+b)) # partial differentation explained in te video(dl/dw)\n",
    "        intercept+=(-2)*(y[i]-(np.dot(w,x[i])+b))\n",
    "        \n",
    "        W=(w-learn_rate*(vector)/k)\n",
    "        B=(b-learn_rate*(intercept)/k)\n",
    "        iteration-=1\n",
    "print(W)\n",
    "print(B)\n",
    "\n"
   ]
  },
  {
   "cell_type": "code",
   "execution_count": 202,
   "metadata": {},
   "outputs": [],
   "source": [
    "y_predict=[]\n",
    "for i in range(len(X)):\n",
    "    Y_hat=np.dot(W,X[i])+B\n",
    "    y_predict.append(np.asscalar(Y_hat))"
   ]
  },
  {
   "cell_type": "code",
   "execution_count": 203,
   "metadata": {},
   "outputs": [
    {
     "data": {
      "text/plain": [
       "Text(0.5, 1.0, 'Actual price Vs Predicted price')"
      ]
     },
     "execution_count": 203,
     "metadata": {},
     "output_type": "execute_result"
    },
    {
     "data": {
      "image/png": "[encoded data removed]",
      "text/plain": [
       "<Figure size 432x288 with 1 Axes>"
      ]
     },
     "metadata": {},
     "output_type": "display_data"
    }
   ],
   "source": [
    "plt.scatter(Y,y_predict)\n",
    "plt.xlabel('Actual Price')\n",
    "plt.ylabel('Predicted Price')\n",
    "plt.title('Actual price Vs Predicted price')\n"
   ]
  },
  {
   "cell_type": "code",
   "execution_count": 204,
   "metadata": {},
   "outputs": [
    {
     "name": "stdout",
     "output_type": "stream",
     "text": [
      "MEan squared error obtained in linear regression implementation= 164.73347006443598\n"
     ]
    }
   ],
   "source": [
    "MSE_reg = mean_squared_error(Y,y_predict)\n",
    "print('MEan squared error obtained in linear regression implementation=',MSE_reg)"
   ]
  },
  {
   "cell_type": "code",
   "execution_count": 205,
   "metadata": {},
   "outputs": [
    {
     "name": "stdout",
     "output_type": "stream",
     "text": [
      "+----------------------+---------------------------+\n",
      "| Weight Vector manual | Weight vector SGD SKLEARN |\n",
      "+----------------------+---------------------------+\n",
      "| -0.9338979703538736  |    -0.9658392087709343    |\n",
      "|  0.0832022518871465  |     1.2293440002363007    |\n",
      "| -0.7945143737679866  |    -0.07330382234661445   |\n",
      "|  0.4667604385812626  |     0.3132399073145978    |\n",
      "| -0.42734109324289477 |    -2.1904348012664157    |\n",
      "|  1.468985274696729   |     2.429518874703924     |\n",
      "|  -0.348781964612902  |     0.0489168162017408    |\n",
      "| -0.44644072187290756 |     -2.968794594936996    |\n",
      "| -0.3120677475365256  |     2.5006284669282386    |\n",
      "| -0.6451210500974637  |    -2.3276417622471817    |\n",
      "| -1.0353573116158117  |    -2.2002482155642005    |\n",
      "|  0.7706426492499777  |     0.562304156084621     |\n",
      "| -1.6412968054718622  |    -3.9804940903624093    |\n",
      "+----------------------+---------------------------+\n"
     ]
    }
   ],
   "source": [
    "from prettytable import PrettyTable\n",
    "tab= PrettyTable()\n",
    "tab.field_names=['Weight Vector manual','Weight vector SGD SKLEARN']\n",
    "weight_sgd=clf.coef_\n",
    "for i in range(13):\n",
    "    tab.add_row([W[0][i],weight_sgd[i]])\n",
    "print(tab)"
   ]
  },
  {
   "cell_type": "code",
   "execution_count": 206,
   "metadata": {},
   "outputs": [
    {
     "name": "stdout",
     "output_type": "stream",
     "text": [
      "MSE of manual implementation= 164.73347006443598\n",
      "----------------------------------------------------------------------------------------------------\n",
      "MSE of SGD SKLEARN implementation= 22.907173722202067\n",
      "----------------------------------------------------------------------------------------------------\n"
     ]
    }
   ],
   "source": [
    "print('MSE of manual implementation=',MSE_reg)\n",
    "print('--'*50)\n",
    "print('MSE of SGD SKLEARN implementation=',mse_sgd)\n",
    "print('--'*50)"
   ]
  },
  {
   "cell_type": "code",
   "execution_count": 207,
   "metadata": {},
   "outputs": [
    {
     "name": "stdout",
     "output_type": "stream",
     "text": [
      "22.76358510445017\n"
     ]
    }
   ],
   "source": [
    "clf = SGDRegressor(learning_rate='constant',eta0=0.01,n_iter=10000,max_iter=10000)\n",
    "clf.fit(X, Y)\n",
    "mse_sgd= mean_squared_error(Y, clf.predict(X))\n",
    "print(mean_squared_error(Y, clf.predict(X)))"
   ]
  },
  {
   "cell_type": "code",
   "execution_count": 208,
   "metadata": {},
   "outputs": [
    {
     "data": {
      "text/plain": [
       "Text(0.5, 1.0, 'Actual price Vs Predicted price')"
      ]
     },
     "execution_count": 208,
     "metadata": {},
     "output_type": "execute_result"
    },
    {
     "data": {
      "image/png": "[encoded data removed]",
      "text/plain": [
       "<Figure size 432x288 with 1 Axes>"
      ]
     },
     "metadata": {},
     "output_type": "display_data"
    }
   ],
   "source": [
    "plt.scatter(Y,clf.predict(X))\n",
    "plt.xlabel('Actual Price')\n",
    "plt.ylabel('Predicted Price')\n",
    "plt.title('Actual price Vs Predicted price')\n"
   ]
  },
  {
   "cell_type": "code",
   "execution_count": 209,
   "metadata": {},
   "outputs": [
    {
     "name": "stdout",
     "output_type": "stream",
     "text": [
      "[[-0.72875383  0.77196977 -0.17223858  0.76861899 -1.36493877  2.90033014\n",
      "   0.07823984 -2.29471835  1.15660213 -0.7222612  -1.96920691  0.96638984\n",
      "  -3.88729116]]\n",
      "[22.55416783]\n"
     ]
    }
   ],
   "source": [
    "#SGD implementation for linear regression\n",
    "# we will implement the equation and find the weight vector\n",
    "\n",
    "W=np.zeros(shape=(1,13))\n",
    "B=0\n",
    "iteration =10000\n",
    "learn_rate =0.01\n",
    "k=30\n",
    "\n",
    "while iteration>=0:\n",
    "    w=W\n",
    "    b=B\n",
    "    vector=np.zeros(shape=(1,13))\n",
    "    intercept=0\n",
    "    data= df.sample(30)\n",
    "    x=np.array(data.drop('price',axis=1))\n",
    "    y=np.array(data['price'])\n",
    "    for i in range(k):\n",
    "        vector+=(-2)*x[i]*(y[i]-(np.dot(w,x[i])+b)) # partial differentation explained in te video(dl/dw)\n",
    "        intercept+=(-2)*(y[i]-(np.dot(w,x[i])+b))\n",
    "        \n",
    "        W=(w-learn_rate*(vector)/k)\n",
    "        B=(b-learn_rate*(intercept)/k)\n",
    "        iteration-=1\n",
    "print(W)\n",
    "print(B)\n",
    "\n"
   ]
  },
  {
   "cell_type": "code",
   "execution_count": 210,
   "metadata": {},
   "outputs": [],
   "source": [
    "# https://docs.scipy.org/doc/numpy/reference/generated/numpy.asscalar.html\n",
    "y_predict=[]\n",
    "for i in range(len(X)):\n",
    "    Y_hat=np.dot(W,X[i])+B\n",
    "    y_predict.append(np.asscalar(Y_hat))"
   ]
  },
  {
   "cell_type": "code",
   "execution_count": 211,
   "metadata": {},
   "outputs": [
    {
     "data": {
      "text/plain": [
       "Text(0.5, 1.0, 'Actual price Vs Predicted price')"
      ]
     },
     "execution_count": 211,
     "metadata": {},
     "output_type": "execute_result"
    },
    {
     "data": {
      "image/png": "[encoded data removed]",
      "text/plain": [
       "<Figure size 432x288 with 1 Axes>"
      ]
     },
     "metadata": {},
     "output_type": "display_data"
    }
   ],
   "source": [
    "plt.scatter(Y,y_predict)\n",
    "plt.xlabel('Actual Price')\n",
    "plt.ylabel('Predicted Price')\n",
    "plt.title('Actual price Vs Predicted price')\n"
   ]
  },
  {
   "cell_type": "code",
   "execution_count": 212,
   "metadata": {},
   "outputs": [
    {
     "name": "stdout",
     "output_type": "stream",
     "text": [
      "MEan squared error obtained in linear regression implementation= 22.46635704700673\n"
     ]
    }
   ],
   "source": [
    "MSE_reg = mean_squared_error(Y,y_predict)\n",
    "print('MEan squared error obtained in linear regression implementation=',MSE_reg)"
   ]
  },
  {
   "cell_type": "code",
   "execution_count": 213,
   "metadata": {},
   "outputs": [
    {
     "name": "stdout",
     "output_type": "stream",
     "text": [
      "+----------------------+---------------------------+\n",
      "| Weight Vector manual | Weight vector SGD SKLEARN |\n",
      "+----------------------+---------------------------+\n",
      "| -0.7287538253845234  |    -0.7909326304791491    |\n",
      "|  0.7719697698033061  |     1.0098173825749714    |\n",
      "| -0.17223858328700467 |    -0.1198466843809395    |\n",
      "|  0.7686189878604841  |     0.1170164704878835    |\n",
      "| -1.3649387675037044  |    -1.9980362298651373    |\n",
      "|  2.900330139859786   |     3.0425799986295745    |\n",
      "| 0.07823984118513992  |    -0.2574143639769527    |\n",
      "| -2.2947183518341365  |    -3.3247096135298553    |\n",
      "|   1.15660213352372   |     2.5894479760929854    |\n",
      "| -0.7222612025239594  |     -2.160662516627998    |\n",
      "| -1.9692069132613657  |    -2.3857447330292576    |\n",
      "|  0.9663898365951545  |     0.953514147417997     |\n",
      "| -3.8872911643376065  |    -3.7131810538670194    |\n",
      "+----------------------+---------------------------+\n"
     ]
    }
   ],
   "source": [
    "from prettytable import PrettyTable\n",
    "tab= PrettyTable()\n",
    "tab.field_names=['Weight Vector manual','Weight vector SGD SKLEARN']\n",
    "weight_sgd=clf.coef_\n",
    "for i in range(13):\n",
    "    tab.add_row([W[0][i],weight_sgd[i]])\n",
    "print(tab)"
   ]
  },
  {
   "cell_type": "code",
   "execution_count": 214,
   "metadata": {},
   "outputs": [
    {
     "name": "stdout",
     "output_type": "stream",
     "text": [
      "MSE of manual implementation= 22.46635704700673\n",
      "----------------------------------------------------------------------------------------------------\n",
      "MSE of SGD SKLEARN implementation= 22.76358510445017\n",
      "----------------------------------------------------------------------------------------------------\n"
     ]
    }
   ],
   "source": [
    "print('MSE of manual implementation=',MSE_reg)\n",
    "print('--'*50)\n",
    "print('MSE of SGD SKLEARN implementation=',mse_sgd)\n",
    "print('--'*50)"
   ]
  },
  {
   "cell_type": "markdown",
   "metadata": {},
   "source": [
    "# Observation"
   ]
  },
  {
   "cell_type": "markdown",
   "metadata": {},
   "source": [
    "1. We imported boston house price dataset and implemented column standardization.\n",
    "2. Then, we implemented the SGD regressor from SKlearn.These implementation was carried out by increasing the number of iteration from 100 to 10,000.\n",
    "3. On the same data, we implemented the SGD regressor manually (by applying the partial differentation equation w.r.t W and B). These implementation also with iteration from 100 to 10,000.\n",
    "4. We calcuated the weights on both the implementation and also calculated the mean square error.\n",
    "5. It is observed that the by increasing the number of iteration, manual implemented SGD regressor started to behave similar to SGD regressor of SKLEARN.\n"
   ]
  }
 ],
 "metadata": {
  "colab": {
   "name": "Untitled3.ipynb",
   "provenance": [],
   "version": "0.3.2"
  },
  "kernelspec": {
   "display_name": "Python 3",
   "language": "python",
   "name": "python3"
  },
  "language_info": {
   "codemirror_mode": {
    "name": "ipython",
    "version": 3
   },
   "file_extension": ".py",
   "mimetype": "text/x-python",
   "name": "python",
   "nbconvert_exporter": "python",
   "pygments_lexer": "ipython3",
   "version": "3.6.5"
  }
 },
 "nbformat": 4,
 "nbformat_minor": 1
}
